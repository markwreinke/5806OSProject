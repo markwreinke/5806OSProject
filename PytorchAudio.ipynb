{
  "nbformat": 4,
  "nbformat_minor": 0,
  "metadata": {
    "colab": {
      "name": "PytorchAudio.ipynb",
      "provenance": [],
      "authorship_tag": "ABX9TyOni7s7nuICs0atEgnnKfVv",
      "include_colab_link": true
    },
    "kernelspec": {
      "name": "python3",
      "display_name": "Python 3"
    }
  },
  "cells": [
    {
      "cell_type": "markdown",
      "metadata": {
        "id": "view-in-github",
        "colab_type": "text"
      },
      "source": [
        "<a href=\"https://colab.research.google.com/github/markwreinke/5806OSProject/blob/master/PytorchAudio.ipynb\" target=\"_parent\"><img src=\"https://colab.research.google.com/assets/colab-badge.svg\" alt=\"Open In Colab\"/></a>"
      ]
    },
    {
      "cell_type": "code",
      "metadata": {
        "id": "aZQ2mrMtNPxC"
      },
      "source": [
        "# This initially is my "
      ],
      "execution_count": null,
      "outputs": []
    }
  ]
}